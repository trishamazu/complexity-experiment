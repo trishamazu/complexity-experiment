{
 "cells": [
  {
   "cell_type": "code",
   "execution_count": 3,
   "metadata": {},
   "outputs": [],
   "source": [
    "import pandas as pd\n",
    "from scipy.stats import entropy\n",
    "import numpy as np\n",
    "\n",
    "df = pd.read_csv('/home/wallacelab/complexity-experiment/Data/Embeddings/things_threshold_embeddings.csv')\n",
    "\n",
    "for index, row in df.iterrows():\n",
    "    row_values = row.values[1:]  \n",
    "    sum_of_row = np.sum(row_values)\n",
    "    if sum_of_row > 0: \n",
    "        probability_distribution = row_values / sum_of_row\n",
    "        df.iloc[index, 1:] = probability_distribution\n",
    "\n",
    "df.to_csv('/home/wallacelab/complexity-experiment/Data/Embeddings/normalized_things_threshold_embedding_v10_lora.csv', index=False)\n",
    "\n",
    "normalized_df = pd.read_csv('/home/wallacelab/complexity-experiment/Data/Embeddings/normalized_things_threshold_embedding_v10_lora.csv')\n",
    "\n",
    "normalized_df['Entropy'] = normalized_df.iloc[:, 1:].apply(lambda x: entropy(x), axis=1)\n",
    "\n",
    "entropy_df = normalized_df[['image', 'Entropy']]  \n",
    "\n",
    "entropy_df.to_csv('/home/wallacelab/complexity-experiment/Data/Entropy Scores/things_threshold_entropy_scores.csv', index=False)"
   ]
  }
 ],
 "metadata": {
  "kernelspec": {
   "display_name": "complexity_experiment",
   "language": "python",
   "name": "python3"
  },
  "language_info": {
   "codemirror_mode": {
    "name": "ipython",
    "version": 3
   },
   "file_extension": ".py",
   "mimetype": "text/x-python",
   "name": "python",
   "nbconvert_exporter": "python",
   "pygments_lexer": "ipython3",
   "version": "3.8.18"
  }
 },
 "nbformat": 4,
 "nbformat_minor": 2
}
